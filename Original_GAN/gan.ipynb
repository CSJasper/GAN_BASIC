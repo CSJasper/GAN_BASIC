{
 "cells": [
  {
   "cell_type": "code",
   "execution_count": null,
   "metadata": {},
   "outputs": [],
   "source": [
    "import torch\n",
    "import torch.cuda as cuda\n",
    "import torch.nn as nn\n",
    "import torch.nn.functional as F\n",
    "import torchvision.transforms as transforms\n",
    "\n",
    "import numpy as np\n"
   ]
  },
  {
   "cell_type": "code",
   "execution_count": null,
   "metadata": {},
   "outputs": [],
   "source": [
    "device = 'cuda0' if cuda.is_available() else 'cpu'\n",
    "print(device)"
   ]
  },
  {
   "cell_type": "code",
   "execution_count": null,
   "metadata": {},
   "outputs": [],
   "source": [
    "class Generator(nn.Module):\n",
    "        def __init__(self):\n",
    "\n",
    "            def block(in_features, out_features, batch_norm=True):\n",
    "                layers = [nn.Linear(in_features=in_features, out_features=out_features)]\n",
    "                if batch_norm:\n",
    "                    layers.append(nn.BatchNorm1d(out_features))\n",
    "                layers.append(nn.LeakyReLU(0.9))\n",
    "                return layers\n",
    "            \n",
    "            self.model = nn.Sequential([\n",
    "                *block(28 * 28, 128),\n",
    "                *block(128, 256),\n",
    "                *block(256, 512),\n",
    "                *block(512, 28 * 28)\n",
    "            ])\n",
    "        \n",
    "        def forward(self, x):\n",
    "            batch_size = x.shape[0]\n",
    "            x = x.view((batch_size, 28 * 28))\n",
    "            x = self.model(x)\n",
    "            return x\n",
    "\n"
   ]
  },
  {
   "cell_type": "code",
   "execution_count": null,
   "metadata": {},
   "outputs": [],
   "source": [
    "class Discriminator(nn.Module):\n",
    "    def __init__(self):\n",
    "        def block(in_features, out_feat)"
   ]
  }
 ],
 "metadata": {
  "kernelspec": {
   "display_name": "Python 3.8.13 ('torch')",
   "language": "python",
   "name": "python3"
  },
  "language_info": {
   "name": "python",
   "version": "3.8.13"
  },
  "orig_nbformat": 4,
  "vscode": {
   "interpreter": {
    "hash": "3041f450e93786c4e98d970a8760ee52a23d0b6f0abb1176c33ef2bfe9f7c93e"
   }
  }
 },
 "nbformat": 4,
 "nbformat_minor": 2
}
